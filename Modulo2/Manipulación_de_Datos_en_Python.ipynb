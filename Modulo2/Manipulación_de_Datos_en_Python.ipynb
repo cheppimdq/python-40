{
  "cells": [
    {
      "cell_type": "code",
      "execution_count": null,
      "metadata": {
        "id": "o8onCeCrwM32"
      },
      "outputs": [],
      "source": [
        "print(\"hola\")"
      ]
    },
    {
      "cell_type": "markdown",
      "metadata": {
        "id": "7mmtnk6-xdpJ"
      },
      "source": [
        "### While"
      ]
    },
    {
      "cell_type": "code",
      "execution_count": null,
      "metadata": {
        "id": "GGJQwrT2xE1g"
      },
      "outputs": [],
      "source": [
        "numero = 1\n",
        "\n",
        "while numero < 10:\n",
        "\n",
        "  print(numero)\n",
        "  numero = numero + 1"
      ]
    },
    {
      "cell_type": "markdown",
      "metadata": {
        "id": "zj5p5sudx1f3"
      },
      "source": [
        "### Calcular la suma de numero enteros ingresados por el usuario"
      ]
    },
    {
      "cell_type": "code",
      "execution_count": null,
      "metadata": {
        "id": "eLoBKngjyEkp"
      },
      "outputs": [],
      "source": [
        "suma = 0\n",
        "continuar = True\n",
        "\n",
        "while continuar:\n",
        "  input_usuario = input(\"ingrese un numero + exit para terminar\")\n",
        "  if input_usuario == 'exit':\n",
        "    continuar = False\n",
        "  else:\n",
        "    numero = int(input_usuario)\n",
        "    suma = suma + numero\n",
        "    print(f\"la suma es {suma}\")\n",
        "  print(f\"la suma final es {suma}\")"
      ]
    },
    {
      "cell_type": "markdown",
      "metadata": {
        "id": "0mnYkjRHzld6"
      },
      "source": [
        "### Sentencia - Break"
      ]
    },
    {
      "cell_type": "code",
      "execution_count": null,
      "metadata": {
        "id": "hiXksoLyzrJX"
      },
      "outputs": [],
      "source": [
        "numero = 1\n",
        "while numero < 10:\n",
        "  if numero == 5:\n",
        "    break\n",
        "  print(numero)\n",
        "  numero = numero + 1"
      ]
    },
    {
      "cell_type": "markdown",
      "metadata": {
        "id": "WCYo8Kxh0CaA"
      },
      "source": [
        "### For"
      ]
    },
    {
      "cell_type": "code",
      "execution_count": null,
      "metadata": {
        "colab": {
          "base_uri": "https://localhost:8080/"
        },
        "id": "A8OKiptA0G36",
        "outputId": "bcc00c9e-7ba9-4ddc-d7a1-2386c2fabf51"
      },
      "outputs": [],
      "source": [
        "gustos_manuchao = [\"los aviones\", \"viajar\", \"la mañana\", \"soñar\", \"la mar\"]\n",
        "for gusto in gustos_manuchao:\n",
        "  print(f\"Me gusta {gusto}, me gustas tu\")"
      ]
    },
    {
      "cell_type": "markdown",
      "metadata": {
        "id": "A4tQRL3z0nz0"
      },
      "source": [
        "### Range"
      ]
    },
    {
      "cell_type": "code",
      "execution_count": null,
      "metadata": {
        "id": "8niYZGpm0rnO"
      },
      "outputs": [],
      "source": [
        "for numero in range(1, 20, 1): #del 1 al 19 y aumenta 1\n",
        "  print(numero)"
      ]
    }
  ],
  "metadata": {
    "colab": {
      "provenance": []
    },
    "kernelspec": {
      "display_name": "Python 3",
      "name": "python3"
    },
    "language_info": {
      "codemirror_mode": {
        "name": "ipython",
        "version": 3
      },
      "file_extension": ".py",
      "mimetype": "text/x-python",
      "name": "python",
      "nbconvert_exporter": "python",
      "pygments_lexer": "ipython3",
      "version": "3.11.5"
    }
  },
  "nbformat": 4,
  "nbformat_minor": 0
}
