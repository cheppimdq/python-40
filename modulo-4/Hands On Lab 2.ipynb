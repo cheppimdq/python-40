{
 "cells": [
  {
   "cell_type": "code",
   "execution_count": 1,
   "id": "025db948",
   "metadata": {},
   "outputs": [
    {
     "ename": "ModuleNotFoundError",
     "evalue": "No module named 'pandas'",
     "output_type": "error",
     "traceback": [
      "\u001b[1;31m---------------------------------------------------------------------------\u001b[0m",
      "\u001b[1;31mModuleNotFoundError\u001b[0m                       Traceback (most recent call last)",
      "Cell \u001b[1;32mIn[1], line 1\u001b[0m\n\u001b[1;32m----> 1\u001b[0m \u001b[39mimport\u001b[39;00m \u001b[39mpandas\u001b[39;00m \u001b[39mas\u001b[39;00m \u001b[39mpd\u001b[39;00m\n\u001b[0;32m      3\u001b[0m df \u001b[39m=\u001b[39m pd\u001b[39m.\u001b[39mread_csv(\u001b[39m\"\u001b[39m\u001b[39m./argentina_cars.csv\u001b[39m\u001b[39m\"\u001b[39m, sep \u001b[39m=\u001b[39m \u001b[39m\"\u001b[39m\u001b[39m;\u001b[39m\u001b[39m\"\u001b[39m)\n",
      "\u001b[1;31mModuleNotFoundError\u001b[0m: No module named 'pandas'"
     ]
    }
   ],
   "source": [
    "import pandas as pd\n",
    "\n",
    "df = pd.read_csv(\"./argentina_cars.csv\", sep = \";\")"
   ]
  },
  {
   "cell_type": "code",
   "execution_count": 6,
   "id": "c28b2977",
   "metadata": {},
   "outputs": [
    {
     "data": {
      "text/html": [
       "<div>\n",
       "<style scoped>\n",
       "    .dataframe tbody tr th:only-of-type {\n",
       "        vertical-align: middle;\n",
       "    }\n",
       "\n",
       "    .dataframe tbody tr th {\n",
       "        vertical-align: top;\n",
       "    }\n",
       "\n",
       "    .dataframe thead th {\n",
       "        text-align: right;\n",
       "    }\n",
       "</style>\n",
       "<table border=\"1\" class=\"dataframe\">\n",
       "  <thead>\n",
       "    <tr style=\"text-align: right;\">\n",
       "      <th></th>\n",
       "      <th>money,brand,model,year,color,fuel_type,door,gear,motor,body_type,kilometres,currency</th>\n",
       "    </tr>\n",
       "  </thead>\n",
       "  <tbody>\n",
       "    <tr>\n",
       "      <th>0</th>\n",
       "      <td>10350000,Toyota,Corolla Cross,2022,Plateado,Na...</td>\n",
       "    </tr>\n",
       "    <tr>\n",
       "      <th>1</th>\n",
       "      <td>10850000,Jeep,Compass,2022,Blanco,Nafta,5.0,Au...</td>\n",
       "    </tr>\n",
       "    <tr>\n",
       "      <th>2</th>\n",
       "      <td>35500,Jeep,Compass,2022,Gris oscuro,Nafta,5.0,...</td>\n",
       "    </tr>\n",
       "    <tr>\n",
       "      <th>3</th>\n",
       "      <td>19000,Citroën,C4 Cactus,2022,Gris oscuro,Nafta...</td>\n",
       "    </tr>\n",
       "    <tr>\n",
       "      <th>4</th>\n",
       "      <td>5800000,Toyota,Corolla,2019,Gris,Nafta,4.0,Man...</td>\n",
       "    </tr>\n",
       "  </tbody>\n",
       "</table>\n",
       "</div>"
      ],
      "text/plain": [
       "  money,brand,model,year,color,fuel_type,door,gear,motor,body_type,kilometres,currency\n",
       "0  10350000,Toyota,Corolla Cross,2022,Plateado,Na...                                  \n",
       "1  10850000,Jeep,Compass,2022,Blanco,Nafta,5.0,Au...                                  \n",
       "2  35500,Jeep,Compass,2022,Gris oscuro,Nafta,5.0,...                                  \n",
       "3  19000,Citroën,C4 Cactus,2022,Gris oscuro,Nafta...                                  \n",
       "4  5800000,Toyota,Corolla,2019,Gris,Nafta,4.0,Man...                                  "
      ]
     },
     "execution_count": 6,
     "metadata": {},
     "output_type": "execute_result"
    }
   ],
   "source": [
    "#Imprimir las primeras filas del df\n",
    "df.head()"
   ]
  },
  {
   "cell_type": "code",
   "execution_count": 7,
   "id": "bfe601ba",
   "metadata": {},
   "outputs": [
    {
     "data": {
      "text/html": [
       "<div>\n",
       "<style scoped>\n",
       "    .dataframe tbody tr th:only-of-type {\n",
       "        vertical-align: middle;\n",
       "    }\n",
       "\n",
       "    .dataframe tbody tr th {\n",
       "        vertical-align: top;\n",
       "    }\n",
       "\n",
       "    .dataframe thead th {\n",
       "        text-align: right;\n",
       "    }\n",
       "</style>\n",
       "<table border=\"1\" class=\"dataframe\">\n",
       "  <thead>\n",
       "    <tr style=\"text-align: right;\">\n",
       "      <th></th>\n",
       "      <th>money,brand,model,year,color,fuel_type,door,gear,motor,body_type,kilometres,currency</th>\n",
       "    </tr>\n",
       "  </thead>\n",
       "  <tbody>\n",
       "    <tr>\n",
       "      <th>505</th>\n",
       "      <td>5250000,Chevrolet,Tracker,2018,Gris,Nafta,5.0,...</td>\n",
       "    </tr>\n",
       "    <tr>\n",
       "      <th>506</th>\n",
       "      <td>46000,Volkswagen,Amarok,2019,Gris,Diésel,4.0,A...</td>\n",
       "    </tr>\n",
       "    <tr>\n",
       "      <th>507</th>\n",
       "      <td>3960000,Peugeot,2008,2017,Blanco,Nafta,5.0,Man...</td>\n",
       "    </tr>\n",
       "    <tr>\n",
       "      <th>508</th>\n",
       "      <td>44900,Volkswagen,Amarok,2019,Gris,Diésel,4.0,A...</td>\n",
       "    </tr>\n",
       "    <tr>\n",
       "      <th>509</th>\n",
       "      <td>2890000,Toyota,Etios,2015,Gris,Nafta,5.0,Manua...</td>\n",
       "    </tr>\n",
       "  </tbody>\n",
       "</table>\n",
       "</div>"
      ],
      "text/plain": [
       "    money,brand,model,year,color,fuel_type,door,gear,motor,body_type,kilometres,currency\n",
       "505  5250000,Chevrolet,Tracker,2018,Gris,Nafta,5.0,...                                  \n",
       "506  46000,Volkswagen,Amarok,2019,Gris,Diésel,4.0,A...                                  \n",
       "507  3960000,Peugeot,2008,2017,Blanco,Nafta,5.0,Man...                                  \n",
       "508  44900,Volkswagen,Amarok,2019,Gris,Diésel,4.0,A...                                  \n",
       "509  2890000,Toyota,Etios,2015,Gris,Nafta,5.0,Manua...                                  "
      ]
     },
     "execution_count": 7,
     "metadata": {},
     "output_type": "execute_result"
    }
   ],
   "source": [
    "#Imprimir las ultimas filas\n",
    "df.tail()"
   ]
  },
  {
   "cell_type": "code",
   "execution_count": 8,
   "id": "093566f6",
   "metadata": {},
   "outputs": [
    {
     "name": "stdout",
     "output_type": "stream",
     "text": [
      "(510, 1)\n"
     ]
    }
   ],
   "source": [
    "#Imprimir las dimensiones del dataset\n",
    "print(df.shape)"
   ]
  },
  {
   "cell_type": "code",
   "execution_count": 9,
   "id": "5fc712eb",
   "metadata": {},
   "outputs": [
    {
     "data": {
      "text/plain": [
       "money,brand,model,year,color,fuel_type,door,gear,motor,body_type,kilometres,currency    510\n",
       "dtype: int64"
      ]
     },
     "execution_count": 9,
     "metadata": {},
     "output_type": "execute_result"
    }
   ],
   "source": [
    "#Totalidad de Registros por columnas\n",
    "df.count()"
   ]
  },
  {
   "cell_type": "code",
   "execution_count": 10,
   "id": "88930196",
   "metadata": {},
   "outputs": [
    {
     "data": {
      "text/plain": [
       "money,brand,model,year,color,fuel_type,door,gear,motor,body_type,kilometres,currency    object\n",
       "dtype: object"
      ]
     },
     "execution_count": 10,
     "metadata": {},
     "output_type": "execute_result"
    }
   ],
   "source": [
    "#Analicemos ahora los tipos de dato de cada columna\n",
    "df.dtypes"
   ]
  },
  {
   "cell_type": "code",
   "execution_count": 11,
   "id": "52bb1bc9",
   "metadata": {},
   "outputs": [
    {
     "data": {
      "text/plain": [
       "pandas.core.frame.DataFrame"
      ]
     },
     "execution_count": 11,
     "metadata": {},
     "output_type": "execute_result"
    }
   ],
   "source": [
    "#Verificamos la estructura del dataset\n",
    "type(df)"
   ]
  },
  {
   "cell_type": "code",
   "execution_count": 12,
   "id": "e870b693",
   "metadata": {},
   "outputs": [
    {
     "name": "stdout",
     "output_type": "stream",
     "text": [
      "Index(['money,brand,model,year,color,fuel_type,door,gear,motor,body_type,kilometres,currency'], dtype='object')\n"
     ]
    }
   ],
   "source": [
    "#Listado de las columnas\n",
    "print(df.columns)"
   ]
  },
  {
   "cell_type": "code",
   "execution_count": 9,
   "id": "966c8b2d",
   "metadata": {},
   "outputs": [],
   "source": [
    "#Eliminacion de ciertas columnas del df\n",
    "df.drop(columns = ['Date', 'Last Update'], inplace = True) #Sobreescribir el objeto"
   ]
  },
  {
   "cell_type": "code",
   "execution_count": 10,
   "id": "ae2c6259",
   "metadata": {},
   "outputs": [
    {
     "name": "stdout",
     "output_type": "stream",
     "text": [
      "(121, 6)\n"
     ]
    }
   ],
   "source": [
    "#Verificamos la eliminacion\n",
    "print(df.shape)"
   ]
  },
  {
   "cell_type": "code",
   "execution_count": 13,
   "id": "e2fc3ec7",
   "metadata": {},
   "outputs": [
    {
     "name": "stdout",
     "output_type": "stream",
     "text": [
      "money,brand,model,year,color,fuel_type,door,gear,motor,body_type,kilometres,currency    0\n",
      "dtype: int64\n"
     ]
    }
   ],
   "source": [
    "#Determinar cuantos valores faltantes tenemos por cada columna\n",
    "print(df.isna().sum()) #isna es una funcion booleana --> V/F"
   ]
  },
  {
   "cell_type": "code",
   "execution_count": 14,
   "id": "6375e6bf",
   "metadata": {},
   "outputs": [
    {
     "name": "stdout",
     "output_type": "stream",
     "text": [
      "<class 'pandas.core.frame.DataFrame'>\n",
      "RangeIndex: 510 entries, 0 to 509\n",
      "Data columns (total 1 columns):\n",
      " #   Column                                                                                Non-Null Count  Dtype \n",
      "---  ------                                                                                --------------  ----- \n",
      " 0   money,brand,model,year,color,fuel_type,door,gear,motor,body_type,kilometres,currency  510 non-null    object\n",
      "dtypes: object(1)\n",
      "memory usage: 4.1+ KB\n"
     ]
    }
   ],
   "source": [
    "#Tambien podemos utilizar la funcion info()\n",
    "df.info()"
   ]
  },
  {
   "cell_type": "code",
   "execution_count": 15,
   "id": "3502ce6d",
   "metadata": {},
   "outputs": [
    {
     "data": {
      "text/html": [
       "<div>\n",
       "<style scoped>\n",
       "    .dataframe tbody tr th:only-of-type {\n",
       "        vertical-align: middle;\n",
       "    }\n",
       "\n",
       "    .dataframe tbody tr th {\n",
       "        vertical-align: top;\n",
       "    }\n",
       "\n",
       "    .dataframe thead th {\n",
       "        text-align: right;\n",
       "    }\n",
       "</style>\n",
       "<table border=\"1\" class=\"dataframe\">\n",
       "  <thead>\n",
       "    <tr style=\"text-align: right;\">\n",
       "      <th></th>\n",
       "      <th>money,brand,model,year,color,fuel_type,door,gear,motor,body_type,kilometres,currency</th>\n",
       "    </tr>\n",
       "  </thead>\n",
       "  <tbody>\n",
       "    <tr>\n",
       "      <th>count</th>\n",
       "      <td>510</td>\n",
       "    </tr>\n",
       "    <tr>\n",
       "      <th>unique</th>\n",
       "      <td>510</td>\n",
       "    </tr>\n",
       "    <tr>\n",
       "      <th>top</th>\n",
       "      <td>10350000,Toyota,Corolla Cross,2022,Plateado,Na...</td>\n",
       "    </tr>\n",
       "    <tr>\n",
       "      <th>freq</th>\n",
       "      <td>1</td>\n",
       "    </tr>\n",
       "  </tbody>\n",
       "</table>\n",
       "</div>"
      ],
      "text/plain": [
       "       money,brand,model,year,color,fuel_type,door,gear,motor,body_type,kilometres,currency\n",
       "count                                                 510                                  \n",
       "unique                                                510                                  \n",
       "top     10350000,Toyota,Corolla Cross,2022,Plateado,Na...                                  \n",
       "freq                                                    1                                  "
      ]
     },
     "execution_count": 15,
     "metadata": {},
     "output_type": "execute_result"
    }
   ],
   "source": [
    "#Describe Python\n",
    "df.describe()    #de forma rapida un EDA ---> Analisis Exploratorio de Datos"
   ]
  },
  {
   "cell_type": "code",
   "execution_count": 16,
   "id": "c754625f",
   "metadata": {},
   "outputs": [
    {
     "data": {
      "text/html": [
       "<div>\n",
       "<style scoped>\n",
       "    .dataframe tbody tr th:only-of-type {\n",
       "        vertical-align: middle;\n",
       "    }\n",
       "\n",
       "    .dataframe tbody tr th {\n",
       "        vertical-align: top;\n",
       "    }\n",
       "\n",
       "    .dataframe thead th {\n",
       "        text-align: right;\n",
       "    }\n",
       "</style>\n",
       "<table border=\"1\" class=\"dataframe\">\n",
       "  <thead>\n",
       "    <tr style=\"text-align: right;\">\n",
       "      <th></th>\n",
       "      <th>count</th>\n",
       "      <th>unique</th>\n",
       "      <th>top</th>\n",
       "      <th>freq</th>\n",
       "    </tr>\n",
       "  </thead>\n",
       "  <tbody>\n",
       "    <tr>\n",
       "      <th>money,brand,model,year,color,fuel_type,door,gear,motor,body_type,kilometres,currency</th>\n",
       "      <td>510</td>\n",
       "      <td>510</td>\n",
       "      <td>10350000,Toyota,Corolla Cross,2022,Plateado,Na...</td>\n",
       "      <td>1</td>\n",
       "    </tr>\n",
       "  </tbody>\n",
       "</table>\n",
       "</div>"
      ],
      "text/plain": [
       "                                                   count unique  \\\n",
       "money,brand,model,year,color,fuel_type,door,gea...   510    510   \n",
       "\n",
       "                                                                                                  top  \\\n",
       "money,brand,model,year,color,fuel_type,door,gea...  10350000,Toyota,Corolla Cross,2022,Plateado,Na...   \n",
       "\n",
       "                                                   freq  \n",
       "money,brand,model,year,color,fuel_type,door,gea...    1  "
      ]
     },
     "execution_count": 16,
     "metadata": {},
     "output_type": "execute_result"
    }
   ],
   "source": [
    "df.describe().T"
   ]
  }
 ],
 "metadata": {
  "kernelspec": {
   "display_name": "Python 3 (ipykernel)",
   "language": "python",
   "name": "python3"
  },
  "language_info": {
   "codemirror_mode": {
    "name": "ipython",
    "version": 3
   },
   "file_extension": ".py",
   "mimetype": "text/x-python",
   "name": "python",
   "nbconvert_exporter": "python",
   "pygments_lexer": "ipython3",
   "version": "3.11.5"
  }
 },
 "nbformat": 4,
 "nbformat_minor": 5
}
